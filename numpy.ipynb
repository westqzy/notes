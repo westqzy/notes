{
 "metadata": {
  "language_info": {
   "codemirror_mode": {
    "name": "ipython",
    "version": 3
   },
   "file_extension": ".py",
   "mimetype": "text/x-python",
   "name": "python",
   "nbconvert_exporter": "python",
   "pygments_lexer": "ipython3",
   "version": "3.8.3-final"
  },
  "orig_nbformat": 2,
  "kernelspec": {
   "name": "python3",
   "display_name": "Python 3.8.3 64-bit (conda)",
   "metadata": {
    "interpreter": {
     "hash": "7b4b4feff2f24a0f0a34464dbe537a36fda679851528fb8735cb41fa49dffb2d"
    }
   }
  }
 },
 "nbformat": 4,
 "nbformat_minor": 2,
 "cells": [
  {
   "source": [
    "# numpy"
   ],
   "cell_type": "markdown",
   "metadata": {}
  },
  {
   "cell_type": "code",
   "execution_count": 2,
   "metadata": {},
   "outputs": [],
   "source": [
    "import numpy as np"
   ]
  },
  {
   "cell_type": "code",
   "execution_count": 7,
   "metadata": {},
   "outputs": [],
   "source": [
    "# array创建\n",
    "a1 = np.array([0,1,2,3])\n",
    "a2 = np.array(range(4))\n",
    "a3 = np.arange(4)"
   ]
  },
  {
   "cell_type": "code",
   "execution_count": 8,
   "metadata": {},
   "outputs": [
    {
     "output_type": "stream",
     "name": "stdout",
     "text": [
      "[0 1 2 3] [0 1 2 3] [0 1 2 3]\n"
     ]
    }
   ],
   "source": [
    "print(a1,a2,a3)"
   ]
  },
  {
   "cell_type": "code",
   "execution_count": 11,
   "metadata": {},
   "outputs": [
    {
     "output_type": "execute_result",
     "data": {
      "text/plain": [
       "dtype('int32')"
      ]
     },
     "metadata": {},
     "execution_count": 11
    }
   ],
   "source": [
    "# 查看数据类型\n",
    "a2.dtype"
   ]
  },
  {
   "cell_type": "code",
   "execution_count": 13,
   "metadata": {},
   "outputs": [
    {
     "output_type": "stream",
     "name": "stdout",
     "text": [
      "float64\n"
     ]
    }
   ],
   "source": [
    "a4 = np.array([1,2,3,4], dtype=\"float64\")\n",
    "print(a4.dtype)"
   ]
  },
  {
   "cell_type": "code",
   "execution_count": 15,
   "metadata": {},
   "outputs": [
    {
     "output_type": "execute_result",
     "data": {
      "text/plain": [
       "dtype('int64')"
      ]
     },
     "metadata": {},
     "execution_count": 15
    }
   ],
   "source": [
    "# 调整数据类型\n",
    "a5 = a4.astype(\"int64\")\n",
    "a5.dtype"
   ]
  },
  {
   "cell_type": "code",
   "execution_count": 16,
   "metadata": {},
   "outputs": [
    {
     "output_type": "execute_result",
     "data": {
      "text/plain": [
       "array([0.24753274, 0.28388672, 0.059283  , 0.16640861, 0.83396244,\n",
       "       0.26378873, 0.42305853, 0.17057602, 0.09575832, 0.46692972])"
      ]
     },
     "metadata": {},
     "execution_count": 16
    }
   ],
   "source": [
    "import random\n",
    "a6 = np.array([random.random() for i in range(10)])\n",
    "a6"
   ]
  },
  {
   "cell_type": "code",
   "execution_count": 19,
   "metadata": {},
   "outputs": [
    {
     "output_type": "execute_result",
     "data": {
      "text/plain": [
       "array([0.248, 0.284, 0.059, 0.166, 0.834, 0.264, 0.423, 0.171, 0.096,\n",
       "       0.467])"
      ]
     },
     "metadata": {},
     "execution_count": 19
    }
   ],
   "source": [
    "a6 = np.round(a6, 3)\n",
    "a6"
   ]
  },
  {
   "cell_type": "code",
   "execution_count": 23,
   "metadata": {},
   "outputs": [
    {
     "output_type": "stream",
     "name": "stdout",
     "text": [
      "(5,)\n(2, 3)\n"
     ]
    }
   ],
   "source": [
    "# 查看形状\n",
    "a7 = np.arange(5)\n",
    "print(a7.shape)\n",
    "a8 = np.array([[1,2,3],[1,3,4]])\n",
    "print(a8.shape)"
   ]
  },
  {
   "cell_type": "code",
   "execution_count": 35,
   "metadata": {},
   "outputs": [
    {
     "output_type": "stream",
     "name": "stdout",
     "text": [
      "[[[ 0  1  2  3]\n  [ 4  5  6  7]\n  [ 8  9 10 11]]\n\n [[12 13 14 15]\n  [16 17 18 19]\n  [20 21 22 23]]]\n[ 0  1  2  3  4  5  6  7  8  9 10 11 12 13 14 15 16 17 18 19 20 21 22 23]\n"
     ]
    }
   ],
   "source": [
    "# 改变形状\n",
    "a9=np.arange(24).reshape((2,3,4))\n",
    "print(a9)\n",
    "a10 = a9.flatten()\n",
    "print(a10)"
   ]
  },
  {
   "cell_type": "code",
   "execution_count": 6,
   "metadata": {},
   "outputs": [
    {
     "output_type": "stream",
     "name": "stdout",
     "text": [
      "[[ 0  1  2  3]\n [ 4  5  6  7]\n [ 8  9 10 11]\n [12 13 14 15]\n [16 17 18 19]\n [20 21 22 23]]\n[[ 0  4  8 12 16 20]\n [ 1  5  9 13 17 21]\n [ 2  6 10 14 18 22]\n [ 3  7 11 15 19 23]]\n[[ 0  4  8 12 16 20]\n [ 1  5  9 13 17 21]\n [ 2  6 10 14 18 22]\n [ 3  7 11 15 19 23]]\n[[ 0  4  8 12 16 20]\n [ 1  5  9 13 17 21]\n [ 2  6 10 14 18 22]\n [ 3  7 11 15 19 23]]\n"
     ]
    }
   ],
   "source": [
    "# 转置\n",
    "b1 = np.arange(24).reshape((6,4))\n",
    "print(b1)\n",
    "# 1\n",
    "b2 = b1.transpose()\n",
    "print(b2)\n",
    "# 2\n",
    "b3 = b1.swapaxes(1,0) # 交换0，1轴\n",
    "print(b3)\n",
    "# 3\n",
    "b4 = b1.T\n",
    "print(b4)"
   ]
  },
  {
   "cell_type": "code",
   "execution_count": 44,
   "metadata": {},
   "outputs": [
    {
     "output_type": "execute_result",
     "data": {
      "text/plain": [
       "array([[2, 4, 6],\n",
       "       [2, 5, 7]])"
      ]
     },
     "metadata": {},
     "execution_count": 44
    }
   ],
   "source": [
    "# 运算\n",
    "b = np.array([[1,2,3],[1,3,4]])\n",
    "c = np.array([1,2,3])\n",
    "b+c"
   ]
  },
  {
   "cell_type": "code",
   "execution_count": 24,
   "metadata": {},
   "outputs": [],
   "source": [
    "# 读取数据\n",
    "t = np.loadtxt(\"./sample_submit.csv\", delimiter=\",\", dtype = \"int32\", skiprows=1, usecols=(0,1,2,3))"
   ]
  },
  {
   "cell_type": "code",
   "execution_count": 25,
   "metadata": {},
   "outputs": [
    {
     "output_type": "execute_result",
     "data": {
      "text/plain": [
       "array([[100000,      0,      0,      0],\n",
       "       [100001,      0,      0,      0],\n",
       "       [100002,      0,      0,      0],\n",
       "       ...,\n",
       "       [119997,      0,      0,      0],\n",
       "       [119998,      0,      0,      0],\n",
       "       [119999,      0,      0,      0]])"
      ]
     },
     "metadata": {},
     "execution_count": 25
    }
   ],
   "source": [
    "t "
   ]
  },
  {
   "cell_type": "code",
   "execution_count": 38,
   "metadata": {},
   "outputs": [
    {
     "output_type": "stream",
     "name": "stdout",
     "text": [
      "[100002      0      0      0]\n[[100002      0      0      0]\n [100003      0      0      0]\n [100004      0      0      0]]\n[[100001      0      0      0]\n [100004      0      0      0]\n [100006      0      0      0]]\n[0 0 0 ... 0 0 0]\n[[0 0]\n [0 0]\n [0 0]\n ...\n [0 0]\n [0 0]\n [0 0]]\n[[0 0 0]\n [0 0 0]\n [0 0 0]\n ...\n [0 0 0]\n [0 0 0]\n [0 0 0]]\n[[100003      0]\n [100004      0]\n [100005      0]]\n[100001      0      0]\n"
     ]
    }
   ],
   "source": [
    "# 取数据\n",
    "# 取一行\n",
    "print(t[2, :])\n",
    "# 去多行\n",
    "print(t[2:5, :])\n",
    "# 取不连续的行\n",
    "print(t[[1,4,6],:])\n",
    "\n",
    "# 取一列\n",
    "print(t[:, 2])\n",
    "# 取多列\n",
    "print(t[:, 2:5])\n",
    "# 取不连续的列\n",
    "print(t[:, [1,2,3]])\n",
    "\n",
    "# 取多行多列\n",
    "print(t[3:6, 0:2])\n",
    "print(t[[1,3,5], [0,2,3]])"
   ]
  },
  {
   "cell_type": "code",
   "execution_count": 40,
   "metadata": {},
   "outputs": [
    {
     "output_type": "execute_result",
     "data": {
      "text/plain": [
       "array([[ 0,  1,  2,  3],\n",
       "       [ 4,  5,  6,  7],\n",
       "       [ 8,  9, 10, 11],\n",
       "       [12, 13, 14, 15],\n",
       "       [16, 17, 18, 19],\n",
       "       [20, 21, 22, 23]])"
      ]
     },
     "metadata": {},
     "execution_count": 40
    }
   ],
   "source": [
    "# 修改数据\n",
    "d = np.arange(24).reshape((6,4))\n",
    "d"
   ]
  },
  {
   "cell_type": "code",
   "execution_count": 45,
   "metadata": {},
   "outputs": [
    {
     "output_type": "execute_result",
     "data": {
      "text/plain": [
       "array([[    0,     1,     2,     3],\n",
       "       [    4,     5,     6,     7],\n",
       "       [    8,     9,    10,    11],\n",
       "       [   12,    13,    14, 10000],\n",
       "       [   16,    17,    18,    19],\n",
       "       [   20,    21,    22,    23]])"
      ]
     },
     "metadata": {},
     "execution_count": 45
    }
   ],
   "source": [
    "d[3,3] = 10000\n",
    "d"
   ]
  },
  {
   "cell_type": "code",
   "execution_count": 46,
   "metadata": {},
   "outputs": [
    {
     "output_type": "execute_result",
     "data": {
      "text/plain": [
       "array([[    0,     0,     0,     0],\n",
       "       [    0,     0,     0,     0],\n",
       "       [    0,     0,    10,    11],\n",
       "       [   12,    13,    14, 10000],\n",
       "       [   16,    17,    18,    19],\n",
       "       [   20,    21,    22,    23]])"
      ]
     },
     "metadata": {},
     "execution_count": 46
    }
   ],
   "source": [
    "d[d<10] = 0\n",
    "d"
   ]
  },
  {
   "cell_type": "code",
   "execution_count": 49,
   "metadata": {},
   "outputs": [
    {
     "output_type": "execute_result",
     "data": {
      "text/plain": [
       "array([[ -1,  -1,  -1,  -1],\n",
       "       [ -1,  -1,  -1,  -1],\n",
       "       [ -1,  -1, 100, 100],\n",
       "       [100, 100, 100, 100],\n",
       "       [100, 100, 100, 100],\n",
       "       [100, 100, 100, 100]])"
      ]
     },
     "metadata": {},
     "execution_count": 49
    }
   ],
   "source": [
    "d2 = np.where(d<10, -1, 100)\n",
    "d2"
   ]
  },
  {
   "cell_type": "code",
   "execution_count": 50,
   "metadata": {},
   "outputs": [
    {
     "output_type": "execute_result",
     "data": {
      "text/plain": [
       "array([[10, 10, 10, 10],\n",
       "       [10, 10, 10, 10],\n",
       "       [10, 10, 10, 11],\n",
       "       [12, 13, 14, 18],\n",
       "       [16, 17, 18, 18],\n",
       "       [18, 18, 18, 18]])"
      ]
     },
     "metadata": {},
     "execution_count": 50
    }
   ],
   "source": [
    "d3 = d.clip(10, 18)\n",
    "d3"
   ]
  },
  {
   "cell_type": "code",
   "execution_count": 5,
   "metadata": {},
   "outputs": [
    {
     "output_type": "stream",
     "name": "stdout",
     "text": [
      "[[ 1  2  3  4  5  6]\n [11 13 32 34 54  6]]\n[ 1  2  3  4  5  6 11 13 32 34 54  6]\n"
     ]
    }
   ],
   "source": [
    "# 拼接\n",
    "import numpy as np\n",
    "a = np.array([1,2,3,4,5,6])\n",
    "b = np.array([11,13,32,34,54,6])\n",
    "c = np.vstack([a, b])\n",
    "print(c)\n",
    "c2  =np.hstack([a, b])\n",
    "print(c2)"
   ]
  },
  {
   "cell_type": "code",
   "execution_count": 8,
   "metadata": {},
   "outputs": [
    {
     "output_type": "stream",
     "name": "stdout",
     "text": [
      "[[ 0  1  2  3  4  5]\n [ 6  7  8  9 10 11]\n [12 13 14 15 16 17]\n [18 19 20 21 22 23]]\n"
     ]
    },
    {
     "output_type": "execute_result",
     "data": {
      "text/plain": [
       "array([3, 3, 3, 3, 3, 3], dtype=int64)"
      ]
     },
     "metadata": {},
     "execution_count": 8
    }
   ],
   "source": [
    "# 获取最大最小值索引\n",
    "d = np.arange(24).reshape(4,6)\n",
    "print(d)\n",
    "np.argmax(d, axis=0)"
   ]
  },
  {
   "cell_type": "code",
   "execution_count": 9,
   "metadata": {},
   "outputs": [
    {
     "output_type": "execute_result",
     "data": {
      "text/plain": [
       "array([0, 0, 0, 0], dtype=int64)"
      ]
     },
     "metadata": {},
     "execution_count": 9
    }
   ],
   "source": [
    "np.argmin(d, axis=1)"
   ]
  },
  {
   "cell_type": "code",
   "execution_count": 13,
   "metadata": {},
   "outputs": [
    {
     "output_type": "execute_result",
     "data": {
      "text/plain": [
       "array([[-0.39993967, -1.72883926, -0.37194529],\n",
       "       [-0.71789236, -0.24575431, -0.0886276 ]])"
      ]
     },
     "metadata": {},
     "execution_count": 13
    }
   ],
   "source": [
    "# 随机数\n",
    "np.random.randn(2,3)"
   ]
  },
  {
   "cell_type": "code",
   "execution_count": 16,
   "metadata": {},
   "outputs": [
    {
     "output_type": "execute_result",
     "data": {
      "text/plain": [
       "array([[19.47301924, 15.91706255, 16.98876718, 13.2941841 ],\n",
       "       [10.00974826, 14.25946354, 19.82815115, 16.14908819],\n",
       "       [18.54238201, 16.48332193, 12.03263631, 12.98530815]])"
      ]
     },
     "metadata": {},
     "execution_count": 16
    }
   ],
   "source": [
    "np.random.randint(10,20, size=(3, 4))\n",
    "np.random.uniform(10,20, size=(3, 4))"
   ]
  },
  {
   "cell_type": "code",
   "execution_count": 17,
   "metadata": {},
   "outputs": [
    {
     "output_type": "stream",
     "name": "stdout",
     "text": [
      "nan\n"
     ]
    }
   ],
   "source": [
    "# inf 和 nan\n",
    "print(np.inf - np.inf)"
   ]
  },
  {
   "cell_type": "code",
   "execution_count": 23,
   "metadata": {},
   "outputs": [
    {
     "output_type": "execute_result",
     "data": {
      "text/plain": [
       "array([False, False, False,  True])"
      ]
     },
     "metadata": {},
     "execution_count": 23
    }
   ],
   "source": [
    "t = np.array([1,2,3,np.nan])\n",
    "np.isnan(t)"
   ]
  },
  {
   "cell_type": "code",
   "execution_count": 33,
   "metadata": {},
   "outputs": [
    {
     "output_type": "execute_result",
     "data": {
      "text/plain": [
       "array([58, 54, 65])"
      ]
     },
     "metadata": {},
     "execution_count": 33
    }
   ],
   "source": [
    "# 统计函数\n",
    "t = np.random.randint(10,20, size=(3, 4))\n",
    "t.sum(axis = 1)"
   ]
  },
  {
   "cell_type": "code",
   "execution_count": 39,
   "metadata": {},
   "outputs": [
    {
     "output_type": "execute_result",
     "data": {
      "text/plain": [
       "11.5"
      ]
     },
     "metadata": {},
     "execution_count": 39
    }
   ],
   "source": [
    "t = np.arange(24).reshape(4,6)\n",
    "t.mean()"
   ]
  },
  {
   "cell_type": "code",
   "execution_count": null,
   "metadata": {},
   "outputs": [],
   "source": []
  }
 ]
}