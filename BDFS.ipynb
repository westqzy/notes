{
 "metadata": {
  "language_info": {
   "codemirror_mode": {
    "name": "ipython",
    "version": 3
   },
   "file_extension": ".py",
   "mimetype": "text/x-python",
   "name": "python",
   "nbconvert_exporter": "python",
   "pygments_lexer": "ipython3",
   "version": "3.8.3-final"
  },
  "orig_nbformat": 2,
  "kernelspec": {
   "name": "python3",
   "display_name": "Python 3.8.3 64-bit (conda)",
   "metadata": {
    "interpreter": {
     "hash": "7b4b4feff2f24a0f0a34464dbe537a36fda679851528fb8735cb41fa49dffb2d"
    }
   }
  }
 },
 "nbformat": 4,
 "nbformat_minor": 2,
 "cells": [
  {
   "source": [
    "# Bfs\n",
    "## 1.建立queue, visited\n",
    "## 2.while queue不空\n",
    "## 3.处理当前节点\n",
    "## 4.扩展结点，更新visited和queue"
   ],
   "cell_type": "markdown",
   "metadata": {}
  },
  {
   "source": [
    "## BFS模板"
   ],
   "cell_type": "markdown",
   "metadata": {}
  },
  {
   "cell_type": "code",
   "execution_count": 2,
   "metadata": {},
   "outputs": [],
   "source": [
    "import collections\n",
    "def BFS(graph, start, end):\n",
    "    queue = collections.deque()\n",
    "    queue.append(start)\n",
    "    visited = set()\n",
    "    visited.add(start)\n",
    "    while queue:\n",
    "        node = queue.popleft()\n",
    "\n",
    "        process(node)\n",
    "        nodes = generate_related_nodes(node)\n",
    "        visted.add(nodes) \n",
    "        queue.append(nodes)\n",
    "\n",
    "def process(node):\n",
    "    pass\n",
    "def generate_related_nodes(node):\n",
    "    return node"
   ]
  },
  {
   "source": [
    "## 例子"
   ],
   "cell_type": "markdown",
   "metadata": {}
  },
  {
   "cell_type": "code",
   "execution_count": 12,
   "metadata": {},
   "outputs": [
    {
     "output_type": "stream",
     "name": "stdout",
     "text": [
      "E\nC\nD\nA\nB\nF\n{'E': None, 'C': 'E', 'D': 'E', 'A': 'C', 'B': 'C', 'F': 'C'}\n"
     ]
    }
   ],
   "source": [
    "graph = {\n",
    "    \"A\" : [\"B\", \"C\"],\n",
    "    \"B\" : [\"A\", \"C\", \"D\"],\n",
    "    \"C\" : [\"A\", \"B\", \"D\", \"F\"],\n",
    "    \"C\" : [\"A\", \"B\", \"D\", \"F\"],\n",
    "    \"D\" : [\"B\", \"C\", \"E\", \"F\"],\n",
    "    \"E\" : [\"C\", \"D\"],\n",
    "    \"F\" : [\"D\"]\n",
    "}\n",
    "import collections\n",
    "def BFS(graph, start):\n",
    "    queue = collections.deque()\n",
    "    queue.append(start)\n",
    "    visited = set()\n",
    "    visited.add(start)\n",
    "    parent = {start : None}\n",
    "    while queue:\n",
    "        node = queue.popleft()\n",
    "        # 处理当前节点\n",
    "        nodes = graph[node]\n",
    "        for n in nodes:\n",
    "            if n not in visited:\n",
    "                visited.add(n)\n",
    "                queue.append(n)\n",
    "                parent[n] = node\n",
    "        print(node)\n",
    "    print(parent)\n",
    "BFS(graph, \"E\")"
   ]
  },
  {
   "source": [
    "# DFS\n",
    "## 1.建立stack, visited\n",
    "## 2.while stack不空\n",
    "## 3.处理当前节点\n",
    "## 4.扩展结点，更新visited和stack"
   ],
   "cell_type": "markdown",
   "metadata": {}
  },
  {
   "source": [
    "## DFS"
   ],
   "cell_type": "markdown",
   "metadata": {}
  },
  {
   "cell_type": "code",
   "execution_count": null,
   "metadata": {},
   "outputs": [],
   "source": [
    "import collections\n",
    "def BFS(graph, start, end):\n",
    "    stack = []\n",
    "    stack.append(start)\n",
    "    visited = set()\n",
    "    visited.add(start)\n",
    "    while stack:\n",
    "        node = stack.pop()\n",
    "\n",
    "        process(node)\n",
    "        nodes = generate_related_nodes(node)\n",
    "        visted.add(nodes) \n",
    "        stack.append(nodes)\n",
    "\n",
    "def process(node):\n",
    "    pass\n",
    "def generate_related_nodes(node):\n",
    "    return node"
   ]
  },
  {
   "source": [
    "## 例子"
   ],
   "cell_type": "markdown",
   "metadata": {}
  },
  {
   "cell_type": "code",
   "execution_count": 6,
   "metadata": {},
   "outputs": [
    {
     "output_type": "stream",
     "name": "stdout",
     "text": [
      "A\nC\nF\nD\nE\nB\n"
     ]
    }
   ],
   "source": [
    "graph = {\n",
    "    \"A\" : [\"B\", \"C\"],\n",
    "    \"B\" : [\"A\", \"C\", \"D\"],\n",
    "    \"C\" : [\"A\", \"B\", \"D\", \"F\"],\n",
    "    \"C\" : [\"A\", \"B\", \"D\", \"F\"],\n",
    "    \"D\" : [\"B\", \"C\", \"E\", \"F\"],\n",
    "    \"E\" : [\"C\", \"D\"],\n",
    "    \"F\" : [\"D\"]\n",
    "}\n",
    "def DFS(graph, start):\n",
    "    stack = []\n",
    "    stack.append(start)\n",
    "    visited = set()\n",
    "    visited.add(start)\n",
    "    while stack:\n",
    "        node = stack.pop()\n",
    "        # 处理当前节点\n",
    "        nodes = graph[node]\n",
    "        for n in nodes:\n",
    "            if n not in visited:\n",
    "                visited.add(n)\n",
    "                stack.append(n)\n",
    "        print(node)\n",
    "DFS(graph, \"A\")"
   ]
  },
  {
   "cell_type": "code",
   "execution_count": null,
   "metadata": {},
   "outputs": [],
   "source": []
  }
 ]
}